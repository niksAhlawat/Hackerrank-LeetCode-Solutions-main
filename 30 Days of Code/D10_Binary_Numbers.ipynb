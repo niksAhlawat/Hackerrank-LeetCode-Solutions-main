{
 "cells": [
  {
   "cell_type": "markdown",
   "metadata": {},
   "source": [
    "Task\n",
    "Given a base-10 integer, n, convert it to binary (base-2). Then find and print the base-10 integer denoting the maximum number of consecutive 1's in n's binary representation. When working with different bases, it is common to show the base as a subscript.\n",
    "\n",
    "Example\n",
    "\n",
    "The binary representation of (125) is 1111101. In base 10, there are 5 and 1 consecutive ones in two groups. Print the maximum, 5.\n"
   ]
  },
  {
   "cell_type": "code",
   "execution_count": 4,
   "metadata": {},
   "outputs": [
    {
     "name": "stdout",
     "output_type": "stream",
     "text": [
      "Integer: 234 to Binary is: 11101010\n",
      "Consecutive number of 1's are: 3\n"
     ]
    }
   ],
   "source": [
    "#!/bin/python3\n",
    "\n",
    "import math\n",
    "import os\n",
    "import random\n",
    "import re\n",
    "import sys\n",
    "\n",
    "\n",
    "\n",
    "if __name__ == '__main__':\n",
    "    n = int(input().strip())\n",
    "    binary = bin(n).replace(\"0b\", \"\")\n",
    "    \n",
    "    Count_ones=0\n",
    "    temp=0\n",
    "\n",
    "    for i in binary:\n",
    "        if i=='1':\n",
    "            temp+=1\n",
    "        else:\n",
    "            Count_ones=max(Count_ones,temp)\n",
    "            temp=0\n",
    "\n",
    "    Count_ones=max(Count_ones,temp)\n",
    "\n",
    "    print(\"Integer: {} to Binary is: {}\".format(n, binary))\n",
    "    print (\"Consecutive number of 1's are: {}\".format(Count_ones))\n",
    "    \n",
    "    \n",
    "    \n"
   ]
  }
 ],
 "metadata": {
  "interpreter": {
   "hash": "5a03e6978a913b76a01264f69485476c06bb2afb04825931e6a903524ca57e27"
  },
  "kernelspec": {
   "display_name": "Python 3.8.8 64-bit ('base': conda)",
   "language": "python",
   "name": "python3"
  },
  "language_info": {
   "codemirror_mode": {
    "name": "ipython",
    "version": 3
   },
   "file_extension": ".py",
   "mimetype": "text/x-python",
   "name": "python",
   "nbconvert_exporter": "python",
   "pygments_lexer": "ipython3",
   "version": "3.8.8"
  },
  "orig_nbformat": 4
 },
 "nbformat": 4,
 "nbformat_minor": 2
}
